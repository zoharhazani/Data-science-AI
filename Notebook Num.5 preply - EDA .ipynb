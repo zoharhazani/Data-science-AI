{
 "cells": [
  {
   "cell_type": "code",
   "execution_count": 1,
   "id": "e13696cc",
   "metadata": {},
   "outputs": [],
   "source": [
    "import pandas as pd\n",
    "import numpy as np\n",
    "from bs4 import BeautifulSoup\n",
    "import requests\n",
    "from statistics import mode\n",
    "import matplotlib as mpl\n",
    "from matplotlib import pyplot as plt\n",
    "%matplotlib inline\n",
    "import seaborn as sns \n",
    "import scipy.stats as ss\n",
    "from scipy.stats import chi2_contingency \n",
    "\n",
    "import numpy as np\n",
    "\n",
    "\n",
    "import numpy as np\n",
    "import matplotlib.pyplot as plt\n",
    "from matplotlib.patches import Ellipse\n",
    "import matplotlib.transforms as transforms"
   ]
  },
  {
   "cell_type": "code",
   "execution_count": 2,
   "id": "1be930d6",
   "metadata": {
    "scrolled": true
   },
   "outputs": [
    {
     "data": {
      "text/html": [
       "<div>\n",
       "<style scoped>\n",
       "    .dataframe tbody tr th:only-of-type {\n",
       "        vertical-align: middle;\n",
       "    }\n",
       "\n",
       "    .dataframe tbody tr th {\n",
       "        vertical-align: top;\n",
       "    }\n",
       "\n",
       "    .dataframe thead th {\n",
       "        text-align: right;\n",
       "    }\n",
       "</style>\n",
       "<table border=\"1\" class=\"dataframe\">\n",
       "  <thead>\n",
       "    <tr style=\"text-align: right;\">\n",
       "      <th></th>\n",
       "      <th>Unnamed: 0</th>\n",
       "      <th>price</th>\n",
       "      <th>lessons</th>\n",
       "      <th>rating</th>\n",
       "      <th>popular</th>\n",
       "      <th>newly_joined</th>\n",
       "      <th>has_diploma</th>\n",
       "      <th>approved_matirials</th>\n",
       "      <th>reviews</th>\n",
       "      <th>students_count</th>\n",
       "      <th>...</th>\n",
       "      <th>Turkish</th>\n",
       "      <th>Portuguese</th>\n",
       "      <th>German</th>\n",
       "      <th>Danish</th>\n",
       "      <th>Hebrew</th>\n",
       "      <th>French</th>\n",
       "      <th>teaches_count</th>\n",
       "      <th>last_booked</th>\n",
       "      <th>response_time</th>\n",
       "      <th>is_expensive</th>\n",
       "    </tr>\n",
       "  </thead>\n",
       "  <tbody>\n",
       "    <tr>\n",
       "      <th>0</th>\n",
       "      <td>0</td>\n",
       "      <td>60</td>\n",
       "      <td>264</td>\n",
       "      <td>5.0</td>\n",
       "      <td>0</td>\n",
       "      <td>0</td>\n",
       "      <td>0</td>\n",
       "      <td>0</td>\n",
       "      <td>10</td>\n",
       "      <td>19</td>\n",
       "      <td>...</td>\n",
       "      <td>0</td>\n",
       "      <td>0</td>\n",
       "      <td>0</td>\n",
       "      <td>0</td>\n",
       "      <td>0</td>\n",
       "      <td>0</td>\n",
       "      <td>1</td>\n",
       "      <td>4</td>\n",
       "      <td>1.0</td>\n",
       "      <td>0</td>\n",
       "    </tr>\n",
       "    <tr>\n",
       "      <th>1</th>\n",
       "      <td>1</td>\n",
       "      <td>110</td>\n",
       "      <td>1724</td>\n",
       "      <td>5.0</td>\n",
       "      <td>0</td>\n",
       "      <td>0</td>\n",
       "      <td>0</td>\n",
       "      <td>1</td>\n",
       "      <td>25</td>\n",
       "      <td>28</td>\n",
       "      <td>...</td>\n",
       "      <td>0</td>\n",
       "      <td>0</td>\n",
       "      <td>0</td>\n",
       "      <td>0</td>\n",
       "      <td>0</td>\n",
       "      <td>0</td>\n",
       "      <td>1</td>\n",
       "      <td>1</td>\n",
       "      <td>1.0</td>\n",
       "      <td>1</td>\n",
       "    </tr>\n",
       "    <tr>\n",
       "      <th>2</th>\n",
       "      <td>2</td>\n",
       "      <td>126</td>\n",
       "      <td>663</td>\n",
       "      <td>5.0</td>\n",
       "      <td>1</td>\n",
       "      <td>0</td>\n",
       "      <td>1</td>\n",
       "      <td>0</td>\n",
       "      <td>19</td>\n",
       "      <td>32</td>\n",
       "      <td>...</td>\n",
       "      <td>0</td>\n",
       "      <td>0</td>\n",
       "      <td>0</td>\n",
       "      <td>0</td>\n",
       "      <td>0</td>\n",
       "      <td>0</td>\n",
       "      <td>1</td>\n",
       "      <td>5</td>\n",
       "      <td>7.0</td>\n",
       "      <td>1</td>\n",
       "    </tr>\n",
       "    <tr>\n",
       "      <th>3</th>\n",
       "      <td>3</td>\n",
       "      <td>28</td>\n",
       "      <td>3</td>\n",
       "      <td>0.0</td>\n",
       "      <td>1</td>\n",
       "      <td>1</td>\n",
       "      <td>1</td>\n",
       "      <td>0</td>\n",
       "      <td>0</td>\n",
       "      <td>5</td>\n",
       "      <td>...</td>\n",
       "      <td>0</td>\n",
       "      <td>0</td>\n",
       "      <td>2</td>\n",
       "      <td>0</td>\n",
       "      <td>0</td>\n",
       "      <td>0</td>\n",
       "      <td>1</td>\n",
       "      <td>2</td>\n",
       "      <td>24.0</td>\n",
       "      <td>0</td>\n",
       "    </tr>\n",
       "    <tr>\n",
       "      <th>4</th>\n",
       "      <td>4</td>\n",
       "      <td>28</td>\n",
       "      <td>2</td>\n",
       "      <td>0.0</td>\n",
       "      <td>3</td>\n",
       "      <td>1</td>\n",
       "      <td>1</td>\n",
       "      <td>0</td>\n",
       "      <td>0</td>\n",
       "      <td>9</td>\n",
       "      <td>...</td>\n",
       "      <td>0</td>\n",
       "      <td>0</td>\n",
       "      <td>0</td>\n",
       "      <td>0</td>\n",
       "      <td>0</td>\n",
       "      <td>0</td>\n",
       "      <td>1</td>\n",
       "      <td>15</td>\n",
       "      <td>4.0</td>\n",
       "      <td>0</td>\n",
       "    </tr>\n",
       "    <tr>\n",
       "      <th>...</th>\n",
       "      <td>...</td>\n",
       "      <td>...</td>\n",
       "      <td>...</td>\n",
       "      <td>...</td>\n",
       "      <td>...</td>\n",
       "      <td>...</td>\n",
       "      <td>...</td>\n",
       "      <td>...</td>\n",
       "      <td>...</td>\n",
       "      <td>...</td>\n",
       "      <td>...</td>\n",
       "      <td>...</td>\n",
       "      <td>...</td>\n",
       "      <td>...</td>\n",
       "      <td>...</td>\n",
       "      <td>...</td>\n",
       "      <td>...</td>\n",
       "      <td>...</td>\n",
       "      <td>...</td>\n",
       "      <td>...</td>\n",
       "      <td>...</td>\n",
       "    </tr>\n",
       "    <tr>\n",
       "      <th>4012</th>\n",
       "      <td>4012</td>\n",
       "      <td>22</td>\n",
       "      <td>3</td>\n",
       "      <td>0.0</td>\n",
       "      <td>0</td>\n",
       "      <td>1</td>\n",
       "      <td>0</td>\n",
       "      <td>0</td>\n",
       "      <td>0</td>\n",
       "      <td>0</td>\n",
       "      <td>...</td>\n",
       "      <td>0</td>\n",
       "      <td>0</td>\n",
       "      <td>0</td>\n",
       "      <td>0</td>\n",
       "      <td>0</td>\n",
       "      <td>0</td>\n",
       "      <td>1</td>\n",
       "      <td>0</td>\n",
       "      <td>1.0</td>\n",
       "      <td>0</td>\n",
       "    </tr>\n",
       "    <tr>\n",
       "      <th>4013</th>\n",
       "      <td>4013</td>\n",
       "      <td>47</td>\n",
       "      <td>2</td>\n",
       "      <td>0.0</td>\n",
       "      <td>0</td>\n",
       "      <td>1</td>\n",
       "      <td>0</td>\n",
       "      <td>0</td>\n",
       "      <td>0</td>\n",
       "      <td>0</td>\n",
       "      <td>...</td>\n",
       "      <td>0</td>\n",
       "      <td>0</td>\n",
       "      <td>0</td>\n",
       "      <td>0</td>\n",
       "      <td>0</td>\n",
       "      <td>0</td>\n",
       "      <td>1</td>\n",
       "      <td>0</td>\n",
       "      <td>1.0</td>\n",
       "      <td>0</td>\n",
       "    </tr>\n",
       "    <tr>\n",
       "      <th>4014</th>\n",
       "      <td>4014</td>\n",
       "      <td>28</td>\n",
       "      <td>0</td>\n",
       "      <td>0.0</td>\n",
       "      <td>0</td>\n",
       "      <td>1</td>\n",
       "      <td>0</td>\n",
       "      <td>0</td>\n",
       "      <td>0</td>\n",
       "      <td>0</td>\n",
       "      <td>...</td>\n",
       "      <td>0</td>\n",
       "      <td>0</td>\n",
       "      <td>0</td>\n",
       "      <td>0</td>\n",
       "      <td>0</td>\n",
       "      <td>0</td>\n",
       "      <td>1</td>\n",
       "      <td>0</td>\n",
       "      <td>1.0</td>\n",
       "      <td>0</td>\n",
       "    </tr>\n",
       "    <tr>\n",
       "      <th>4015</th>\n",
       "      <td>4015</td>\n",
       "      <td>28</td>\n",
       "      <td>0</td>\n",
       "      <td>0.0</td>\n",
       "      <td>0</td>\n",
       "      <td>1</td>\n",
       "      <td>0</td>\n",
       "      <td>0</td>\n",
       "      <td>0</td>\n",
       "      <td>0</td>\n",
       "      <td>...</td>\n",
       "      <td>0</td>\n",
       "      <td>0</td>\n",
       "      <td>0</td>\n",
       "      <td>0</td>\n",
       "      <td>0</td>\n",
       "      <td>0</td>\n",
       "      <td>1</td>\n",
       "      <td>0</td>\n",
       "      <td>1.0</td>\n",
       "      <td>0</td>\n",
       "    </tr>\n",
       "    <tr>\n",
       "      <th>4016</th>\n",
       "      <td>4016</td>\n",
       "      <td>37</td>\n",
       "      <td>42</td>\n",
       "      <td>5.0</td>\n",
       "      <td>0</td>\n",
       "      <td>0</td>\n",
       "      <td>1</td>\n",
       "      <td>0</td>\n",
       "      <td>1</td>\n",
       "      <td>1</td>\n",
       "      <td>...</td>\n",
       "      <td>0</td>\n",
       "      <td>0</td>\n",
       "      <td>0</td>\n",
       "      <td>0</td>\n",
       "      <td>0</td>\n",
       "      <td>0</td>\n",
       "      <td>1</td>\n",
       "      <td>0</td>\n",
       "      <td>1.0</td>\n",
       "      <td>0</td>\n",
       "    </tr>\n",
       "  </tbody>\n",
       "</table>\n",
       "<p>4017 rows × 25 columns</p>\n",
       "</div>"
      ],
      "text/plain": [
       "      Unnamed: 0  price  lessons  rating  popular  newly_joined  has_diploma  \\\n",
       "0              0     60      264     5.0        0             0            0   \n",
       "1              1    110     1724     5.0        0             0            0   \n",
       "2              2    126      663     5.0        1             0            1   \n",
       "3              3     28        3     0.0        1             1            1   \n",
       "4              4     28        2     0.0        3             1            1   \n",
       "...          ...    ...      ...     ...      ...           ...          ...   \n",
       "4012        4012     22        3     0.0        0             1            0   \n",
       "4013        4013     47        2     0.0        0             1            0   \n",
       "4014        4014     28        0     0.0        0             1            0   \n",
       "4015        4015     28        0     0.0        0             1            0   \n",
       "4016        4016     37       42     5.0        0             0            1   \n",
       "\n",
       "      approved_matirials  reviews  students_count  ...  Turkish  Portuguese  \\\n",
       "0                      0       10              19  ...        0           0   \n",
       "1                      1       25              28  ...        0           0   \n",
       "2                      0       19              32  ...        0           0   \n",
       "3                      0        0               5  ...        0           0   \n",
       "4                      0        0               9  ...        0           0   \n",
       "...                  ...      ...             ...  ...      ...         ...   \n",
       "4012                   0        0               0  ...        0           0   \n",
       "4013                   0        0               0  ...        0           0   \n",
       "4014                   0        0               0  ...        0           0   \n",
       "4015                   0        0               0  ...        0           0   \n",
       "4016                   0        1               1  ...        0           0   \n",
       "\n",
       "      German  Danish  Hebrew  French  teaches_count  last_booked  \\\n",
       "0          0       0       0       0              1            4   \n",
       "1          0       0       0       0              1            1   \n",
       "2          0       0       0       0              1            5   \n",
       "3          2       0       0       0              1            2   \n",
       "4          0       0       0       0              1           15   \n",
       "...      ...     ...     ...     ...            ...          ...   \n",
       "4012       0       0       0       0              1            0   \n",
       "4013       0       0       0       0              1            0   \n",
       "4014       0       0       0       0              1            0   \n",
       "4015       0       0       0       0              1            0   \n",
       "4016       0       0       0       0              1            0   \n",
       "\n",
       "      response_time  is_expensive  \n",
       "0               1.0             0  \n",
       "1               1.0             1  \n",
       "2               7.0             1  \n",
       "3              24.0             0  \n",
       "4               4.0             0  \n",
       "...             ...           ...  \n",
       "4012            1.0             0  \n",
       "4013            1.0             0  \n",
       "4014            1.0             0  \n",
       "4015            1.0             0  \n",
       "4016            1.0             0  \n",
       "\n",
       "[4017 rows x 25 columns]"
      ]
     },
     "execution_count": 2,
     "metadata": {},
     "output_type": "execute_result"
    }
   ],
   "source": [
    "df = pd.read_csv('preply_final_final.csv')\n",
    "df"
   ]
  },
  {
   "cell_type": "markdown",
   "id": "439da07a",
   "metadata": {},
   "source": [
    "## Contingency table:\n",
    "### The question asked is-\n",
    "## Is there a relationship between the variables: \"English\" and \"popular\" ?"
   ]
  },
  {
   "cell_type": "code",
   "execution_count": 3,
   "id": "88bdd0f6",
   "metadata": {},
   "outputs": [
    {
     "data": {
      "text/html": [
       "<div>\n",
       "<style scoped>\n",
       "    .dataframe tbody tr th:only-of-type {\n",
       "        vertical-align: middle;\n",
       "    }\n",
       "\n",
       "    .dataframe tbody tr th {\n",
       "        vertical-align: top;\n",
       "    }\n",
       "\n",
       "    .dataframe thead th {\n",
       "        text-align: right;\n",
       "    }\n",
       "</style>\n",
       "<table border=\"1\" class=\"dataframe\">\n",
       "  <thead>\n",
       "    <tr style=\"text-align: right;\">\n",
       "      <th>popular</th>\n",
       "      <th>0</th>\n",
       "      <th>1</th>\n",
       "      <th>2</th>\n",
       "      <th>3</th>\n",
       "    </tr>\n",
       "    <tr>\n",
       "      <th>English</th>\n",
       "      <th></th>\n",
       "      <th></th>\n",
       "      <th></th>\n",
       "      <th></th>\n",
       "    </tr>\n",
       "  </thead>\n",
       "  <tbody>\n",
       "    <tr>\n",
       "      <th>5</th>\n",
       "      <td>325</td>\n",
       "      <td>19</td>\n",
       "      <td>2</td>\n",
       "      <td>6</td>\n",
       "    </tr>\n",
       "    <tr>\n",
       "      <th>6</th>\n",
       "      <td>643</td>\n",
       "      <td>53</td>\n",
       "      <td>8</td>\n",
       "      <td>12</td>\n",
       "    </tr>\n",
       "    <tr>\n",
       "      <th>7</th>\n",
       "      <td>2577</td>\n",
       "      <td>212</td>\n",
       "      <td>88</td>\n",
       "      <td>72</td>\n",
       "    </tr>\n",
       "  </tbody>\n",
       "</table>\n",
       "</div>"
      ],
      "text/plain": [
       "popular     0    1   2   3\n",
       "English                   \n",
       "5         325   19   2   6\n",
       "6         643   53   8  12\n",
       "7        2577  212  88  72"
      ]
     },
     "execution_count": 3,
     "metadata": {},
     "output_type": "execute_result"
    }
   ],
   "source": [
    "ct1=pd.crosstab(df['English'],df['popular'])\n",
    "ct1"
   ]
  },
  {
   "cell_type": "markdown",
   "id": "6d466ee2",
   "metadata": {},
   "source": [
    "## conclusion: Yes, the greater the level of English, the higher the level of popularity. which make sense since students will prefer a teacher who knows the language well."
   ]
  },
  {
   "cell_type": "markdown",
   "id": "4a82c7e6",
   "metadata": {},
   "source": [
    "# Presentation in a bar graph- \"English\" and \"popular\" "
   ]
  },
  {
   "cell_type": "code",
   "execution_count": 4,
   "id": "4833169f",
   "metadata": {},
   "outputs": [
    {
     "data": {
      "text/plain": [
       "Text(0, 0.5, 'popular')"
      ]
     },
     "execution_count": 4,
     "metadata": {},
     "output_type": "execute_result"
    },
    {
     "data": {
      "image/png": "[encoded data removed]",
      "text/plain": [
       "<Figure size 360x360 with 1 Axes>"
      ]
     },
     "metadata": {
      "needs_background": "light"
     },
     "output_type": "display_data"
    }
   ],
   "source": [
    "ct1.plot(kind='bar', figsize=(5,5),cmap='Pastel1' )\n",
    "plt.title(\"popular vs. english level\", fontsize=10)\n",
    "plt.xlabel('English')\n",
    "plt.ylabel('popular')"
   ]
  },
  {
   "cell_type": "markdown",
   "id": "c8f880e2",
   "metadata": {},
   "source": [
    "## conclusion: as we saw before the amount of populars teachers is getting bigger when the level of english is getting higher."
   ]
  },
  {
   "cell_type": "markdown",
   "id": "cd80b4d8",
   "metadata": {},
   "source": [
    "# Crosstab of the variables - \"is_expensive\" and \"English\""
   ]
  },
  {
   "cell_type": "code",
   "execution_count": 5,
   "id": "8a890b79",
   "metadata": {},
   "outputs": [
    {
     "data": {
      "text/html": [
       "<div>\n",
       "<style scoped>\n",
       "    .dataframe tbody tr th:only-of-type {\n",
       "        vertical-align: middle;\n",
       "    }\n",
       "\n",
       "    .dataframe tbody tr th {\n",
       "        vertical-align: top;\n",
       "    }\n",
       "\n",
       "    .dataframe thead th {\n",
       "        text-align: right;\n",
       "    }\n",
       "</style>\n",
       "<table border=\"1\" class=\"dataframe\">\n",
       "  <thead>\n",
       "    <tr style=\"text-align: right;\">\n",
       "      <th>English</th>\n",
       "      <th>5</th>\n",
       "      <th>6</th>\n",
       "      <th>7</th>\n",
       "    </tr>\n",
       "    <tr>\n",
       "      <th>is_expensive</th>\n",
       "      <th></th>\n",
       "      <th></th>\n",
       "      <th></th>\n",
       "    </tr>\n",
       "  </thead>\n",
       "  <tbody>\n",
       "    <tr>\n",
       "      <th>0</th>\n",
       "      <td>350</td>\n",
       "      <td>690</td>\n",
       "      <td>2774</td>\n",
       "    </tr>\n",
       "    <tr>\n",
       "      <th>1</th>\n",
       "      <td>2</td>\n",
       "      <td>26</td>\n",
       "      <td>175</td>\n",
       "    </tr>\n",
       "  </tbody>\n",
       "</table>\n",
       "</div>"
      ],
      "text/plain": [
       "English         5    6     7\n",
       "is_expensive                \n",
       "0             350  690  2774\n",
       "1               2   26   175"
      ]
     },
     "execution_count": 5,
     "metadata": {},
     "output_type": "execute_result"
    }
   ],
   "source": [
    "ct2=pd.crosstab(df['is_expensive'],df['English'])\n",
    "ct2"
   ]
  },
  {
   "cell_type": "markdown",
   "id": "f5dea2af",
   "metadata": {},
   "source": [
    "## conclusion: Lessons become more expensive as the student's knowledge of English grows"
   ]
  },
  {
   "cell_type": "markdown",
   "id": "008ea9fa",
   "metadata": {},
   "source": [
    "# Visualization of the connection between the variables - \"is_expensive\" and \"English\" "
   ]
  },
  {
   "cell_type": "code",
   "execution_count": 6,
   "id": "b51f934f",
   "metadata": {},
   "outputs": [
    {
     "data": {
      "text/plain": [
       "Text(0, 0.5, 'is_expensive')"
      ]
     },
     "execution_count": 6,
     "metadata": {},
     "output_type": "execute_result"
    },
    {
     "data": {
      "image/png": "[encoded data removed]",
      "text/plain": [
       "<Figure size 360x360 with 1 Axes>"
      ]
     },
     "metadata": {
      "needs_background": "light"
     },
     "output_type": "display_data"
    }
   ],
   "source": [
    "ct2.plot(kind='bar', figsize=(5,5),cmap='Pastel1' )\n",
    "plt.title(\"is_expensive vs. english level\", fontsize=10)\n",
    "plt.xlabel('English')\n",
    "plt.ylabel('is_expensive')"
   ]
  },
  {
   "cell_type": "markdown",
   "id": "b59e809c",
   "metadata": {},
   "source": [
    "# A better look of the variable \"newly_joined\":"
   ]
  },
  {
   "cell_type": "code",
   "execution_count": 7,
   "id": "acf9139c",
   "metadata": {},
   "outputs": [
    {
     "data": {
      "text/plain": [
       "0    0.689071\n",
       "1    0.310929\n",
       "Name: newly_joined, dtype: float64"
      ]
     },
     "execution_count": 7,
     "metadata": {},
     "output_type": "execute_result"
    }
   ],
   "source": [
    "df['newly_joined'].value_counts(normalize='true')"
   ]
  },
  {
   "cell_type": "markdown",
   "id": "d4289f06",
   "metadata": {},
   "source": [
    "# The ratio between \"newly_joined\" teachers and those who have experience on Preply on pie chart"
   ]
  },
  {
   "cell_type": "code",
   "execution_count": 29,
   "id": "fb9d5894",
   "metadata": {},
   "outputs": [
    {
     "data": {
      "text/plain": [
       "0    2768\n",
       "1    1249\n",
       "Name: newly_joined, dtype: int64"
      ]
     },
     "execution_count": 29,
     "metadata": {},
     "output_type": "execute_result"
    },
    {
     "data": {
      "image/png": "[encoded data removed]",
      "text/plain": [
       "<Figure size 432x288 with 1 Axes>"
      ]
     },
     "metadata": {},
     "output_type": "display_data"
    }
   ],
   "source": [
    "df['newly_joined'].value_counts().plot(kind='pie',cmap='Pastel1')\n",
    "df['newly_joined'].value_counts()"
   ]
  },
  {
   "cell_type": "code",
   "execution_count": 30,
   "id": "87ca59b8",
   "metadata": {},
   "outputs": [
    {
     "data": {
      "text/plain": [
       "0.3109285536470002"
      ]
     },
     "execution_count": 30,
     "metadata": {},
     "output_type": "execute_result"
    }
   ],
   "source": [
    "(df['newly_joined'].value_counts()[1])/(df['newly_joined'].value_counts()[1]+df['newly_joined'].value_counts()[0])"
   ]
  },
  {
   "cell_type": "markdown",
   "id": "fb263de5",
   "metadata": {},
   "source": [
    "## conclusion: most of the people have experience on Preply and 30% are new."
   ]
  },
  {
   "cell_type": "markdown",
   "id": "240a160a",
   "metadata": {},
   "source": [
    "# Ratio between teachers with a diploma and those without:"
   ]
  },
  {
   "cell_type": "code",
   "execution_count": 9,
   "id": "6532b6ba",
   "metadata": {},
   "outputs": [
    {
     "data": {
      "text/plain": [
       "<AxesSubplot:ylabel='has_diploma'>"
      ]
     },
     "execution_count": 9,
     "metadata": {},
     "output_type": "execute_result"
    },
    {
     "data": {
      "image/png": "[encoded data removed]",
      "text/plain": [
       "<Figure size 432x288 with 1 Axes>"
      ]
     },
     "metadata": {},
     "output_type": "display_data"
    }
   ],
   "source": [
    "df['has_diploma'].value_counts().plot(kind='pie',cmap='Pastel1')"
   ]
  },
  {
   "cell_type": "markdown",
   "id": "2880da82",
   "metadata": {},
   "source": [
    "## conclusion: Most of the teachers on Preply web do no have a diploma."
   ]
  },
  {
   "cell_type": "markdown",
   "id": "ed9bf1b8",
   "metadata": {},
   "source": [
    "# The ratio of teachers' English levels shown on pie chart: "
   ]
  },
  {
   "cell_type": "code",
   "execution_count": 10,
   "id": "0c0b86ec",
   "metadata": {},
   "outputs": [
    {
     "data": {
      "text/plain": [
       "<AxesSubplot:ylabel='English'>"
      ]
     },
     "execution_count": 10,
     "metadata": {},
     "output_type": "execute_result"
    },
    {
     "data": {
      "image/png": "[encoded data removed]",
      "text/plain": [
       "<Figure size 432x288 with 1 Axes>"
      ]
     },
     "metadata": {},
     "output_type": "display_data"
    }
   ],
   "source": [
    "df['English'].value_counts().plot(kind='pie',cmap='Pastel1')"
   ]
  },
  {
   "cell_type": "markdown",
   "id": "0bc7a391",
   "metadata": {},
   "source": [
    "## conclusion: most of the English's teachers on preply web know well English."
   ]
  },
  {
   "cell_type": "markdown",
   "id": "235dbf05",
   "metadata": {},
   "source": [
    "# The ratio between teachers who take a high price compared to those who don't ."
   ]
  },
  {
   "cell_type": "code",
   "execution_count": 11,
   "id": "3224a8b8",
   "metadata": {},
   "outputs": [
    {
     "data": {
      "text/plain": [
       "<AxesSubplot:ylabel='is_expensive'>"
      ]
     },
     "execution_count": 11,
     "metadata": {},
     "output_type": "execute_result"
    },
    {
     "data": {
      "image/png": "[encoded data removed]",
      "text/plain": [
       "<Figure size 432x288 with 1 Axes>"
      ]
     },
     "metadata": {},
     "output_type": "display_data"
    }
   ],
   "source": [
    "df['is_expensive'].value_counts().plot(kind='pie',cmap='Pastel1')"
   ]
  },
  {
   "cell_type": "markdown",
   "id": "0b8f3a3f",
   "metadata": {},
   "source": [
    "## better look of the \"popular\" column."
   ]
  },
  {
   "cell_type": "code",
   "execution_count": 12,
   "id": "5ac02203",
   "metadata": {},
   "outputs": [
    {
     "data": {
      "text/plain": [
       "0    3545\n",
       "1     284\n",
       "2      98\n",
       "3      90\n",
       "Name: popular, dtype: int64"
      ]
     },
     "execution_count": 12,
     "metadata": {},
     "output_type": "execute_result"
    }
   ],
   "source": [
    "df['popular'].value_counts()"
   ]
  },
  {
   "cell_type": "markdown",
   "id": "fb8b576d",
   "metadata": {},
   "source": [
    "### conclusion: just a small part of the teacher called popular. Also the higher the level of popularity, the lower the amount of people who have it."
   ]
  },
  {
   "cell_type": "code",
   "execution_count": 13,
   "id": "f35c25dd",
   "metadata": {},
   "outputs": [
    {
     "data": {
      "text/html": [
       "<div>\n",
       "<style scoped>\n",
       "    .dataframe tbody tr th:only-of-type {\n",
       "        vertical-align: middle;\n",
       "    }\n",
       "\n",
       "    .dataframe tbody tr th {\n",
       "        vertical-align: top;\n",
       "    }\n",
       "\n",
       "    .dataframe thead th {\n",
       "        text-align: right;\n",
       "    }\n",
       "</style>\n",
       "<table border=\"1\" class=\"dataframe\">\n",
       "  <thead>\n",
       "    <tr style=\"text-align: right;\">\n",
       "      <th></th>\n",
       "      <th>popular</th>\n",
       "    </tr>\n",
       "  </thead>\n",
       "  <tbody>\n",
       "    <tr>\n",
       "      <th>Not Popular</th>\n",
       "      <td>3545</td>\n",
       "    </tr>\n",
       "    <tr>\n",
       "      <th>Popular</th>\n",
       "      <td>284</td>\n",
       "    </tr>\n",
       "    <tr>\n",
       "      <th>Very Popular</th>\n",
       "      <td>98</td>\n",
       "    </tr>\n",
       "    <tr>\n",
       "      <th>Super Popular</th>\n",
       "      <td>90</td>\n",
       "    </tr>\n",
       "  </tbody>\n",
       "</table>\n",
       "</div>"
      ],
      "text/plain": [
       "               popular\n",
       "Not Popular       3545\n",
       "Popular            284\n",
       "Very Popular        98\n",
       "Super Popular       90"
      ]
     },
     "execution_count": 13,
     "metadata": {},
     "output_type": "execute_result"
    }
   ],
   "source": [
    "df1 = pd.DataFrame.from_dict(df['popular'].value_counts())\n",
    "df1.index = df1.index.map(str)\n",
    "df1.index = ['Not Popular','Popular','Very Popular','Super Popular']\n",
    "df1"
   ]
  },
  {
   "cell_type": "markdown",
   "id": "9461fda5",
   "metadata": {},
   "source": [
    "# Classification by levels of the popularrity on pie chart"
   ]
  },
  {
   "cell_type": "code",
   "execution_count": 14,
   "id": "c9fdde8e",
   "metadata": {},
   "outputs": [
    {
     "data": {
      "text/plain": [
       "<AxesSubplot:ylabel='popular'>"
      ]
     },
     "execution_count": 14,
     "metadata": {},
     "output_type": "execute_result"
    },
    {
     "data": {
      "image/png": "[encoded data removed]",
      "text/plain": [
       "<Figure size 432x288 with 1 Axes>"
      ]
     },
     "metadata": {},
     "output_type": "display_data"
    }
   ],
   "source": [
    "df['popular'].value_counts().plot(kind='pie',cmap='Pastel1',labels=df1.index,autopct='%1.1f%%',)"
   ]
  },
  {
   "cell_type": "markdown",
   "id": "502c9606",
   "metadata": {},
   "source": [
    "# Using appropriate graphs to display continuous variables "
   ]
  },
  {
   "cell_type": "markdown",
   "id": "2fe84b43",
   "metadata": {},
   "source": [
    "## We built a fig object to display the graphs horizontally - \"price\" vs \"lessons\""
   ]
  },
  {
   "cell_type": "code",
   "execution_count": 28,
   "id": "92ea2ca2",
   "metadata": {},
   "outputs": [
    {
     "data": {
      "text/plain": [
       "Text(0, 0.5, 'frequency')"
      ]
     },
     "execution_count": 28,
     "metadata": {},
     "output_type": "execute_result"
    },
    {
     "data": {
      "image/png": "[encoded data removed]",
      "text/plain": [
       "<Figure size 864x288 with 2 Axes>"
      ]
     },
     "metadata": {
      "needs_background": "light"
     },
     "output_type": "display_data"
    }
   ],
   "source": [
    "fig= plt.figure(figsize=(12,4))\n",
    "\n",
    "fig1=fig.add_subplot(1,2,1)\n",
    "fig2=fig.add_subplot(1,2,2)\n",
    "\n",
    "fig1.hist(df.price,bins=40)\n",
    "fig1.set_title(\"price histogram\")\n",
    "fig1.set_xlabel(\"price\")\n",
    "fig1.set_ylabel(\"frequency\")\n",
    "\n",
    "fig2.hist(df.lessons,bins=40)\n",
    "fig2.set_title(\"lessons histogram\")\n",
    "fig2.set_xlabel(\"lessons\")\n",
    "fig2.set_ylabel(\"frequency\")\n",
    "\n",
    "\n"
   ]
  },
  {
   "cell_type": "markdown",
   "id": "fd100e42",
   "metadata": {},
   "source": [
    "## conclusion of price histogram: most of the teacher's lessons cost between 20-60 ils.\n",
    "## conclusion of lessons histogram: most of the teacher have a low rate of lessons"
   ]
  },
  {
   "cell_type": "markdown",
   "id": "64beeef0",
   "metadata": {},
   "source": [
    "# Boxplot - \"English\" and \"reviews\"\n",
    "## Here we can see that the higher the level of English - the more reviews he gets"
   ]
  },
  {
   "cell_type": "code",
   "execution_count": 16,
   "id": "4b8abf05",
   "metadata": {},
   "outputs": [
    {
     "name": "stderr",
     "output_type": "stream",
     "text": [
      "C:\\Users\\liors\\anaconda3\\lib\\site-packages\\seaborn\\_decorators.py:36: FutureWarning: Pass the following variables as keyword args: x, y. From version 0.12, the only valid positional argument will be `data`, and passing other arguments without an explicit keyword will result in an error or misinterpretation.\n",
      "  warnings.warn(\n"
     ]
    },
    {
     "data": {
      "text/plain": [
       "<AxesSubplot:xlabel='English', ylabel='reviews'>"
      ]
     },
     "execution_count": 16,
     "metadata": {},
     "output_type": "execute_result"
    },
    {
     "data": {
      "image/png": "[encoded data removed]",
      "text/plain": [
       "<Figure size 432x288 with 1 Axes>"
      ]
     },
     "metadata": {
      "needs_background": "light"
     },
     "output_type": "display_data"
    }
   ],
   "source": [
    "sns.boxplot(df.English,df.reviews,whis=10)"
   ]
  },
  {
   "cell_type": "markdown",
   "id": "297bd729",
   "metadata": {},
   "source": [
    "# Boxplot - \"English\" and \"price\""
   ]
  },
  {
   "cell_type": "code",
   "execution_count": 17,
   "id": "6626db70",
   "metadata": {},
   "outputs": [
    {
     "name": "stderr",
     "output_type": "stream",
     "text": [
      "C:\\Users\\liors\\anaconda3\\lib\\site-packages\\seaborn\\_decorators.py:36: FutureWarning: Pass the following variables as keyword args: x, y. From version 0.12, the only valid positional argument will be `data`, and passing other arguments without an explicit keyword will result in an error or misinterpretation.\n",
      "  warnings.warn(\n"
     ]
    },
    {
     "data": {
      "text/plain": [
       "<AxesSubplot:xlabel='English', ylabel='price'>"
      ]
     },
     "execution_count": 17,
     "metadata": {},
     "output_type": "execute_result"
    },
    {
     "data": {
      "image/png": "[encoded data removed]",
      "text/plain": [
       "<Figure size 432x288 with 1 Axes>"
      ]
     },
     "metadata": {
      "needs_background": "light"
     },
     "output_type": "display_data"
    }
   ],
   "source": [
    "sns.boxplot(df.English,df.price,whis=3)"
   ]
  },
  {
   "cell_type": "markdown",
   "id": "7f3d909c",
   "metadata": {},
   "source": [
    "## conclusion: the higher the level of English - the higher the price is"
   ]
  },
  {
   "cell_type": "markdown",
   "id": "bfdd4db3",
   "metadata": {},
   "source": [
    "## another visualization - violinplot - \"English\" and \"price\""
   ]
  },
  {
   "cell_type": "code",
   "execution_count": 18,
   "id": "723e4a26",
   "metadata": {},
   "outputs": [
    {
     "name": "stderr",
     "output_type": "stream",
     "text": [
      "C:\\Users\\liors\\anaconda3\\lib\\site-packages\\seaborn\\_decorators.py:36: FutureWarning: Pass the following variables as keyword args: x, y. From version 0.12, the only valid positional argument will be `data`, and passing other arguments without an explicit keyword will result in an error or misinterpretation.\n",
      "  warnings.warn(\n"
     ]
    },
    {
     "data": {
      "text/plain": [
       "<AxesSubplot:xlabel='English', ylabel='price'>"
      ]
     },
     "execution_count": 18,
     "metadata": {},
     "output_type": "execute_result"
    },
    {
     "data": {
      "image/png": "[encoded data removed]",
      "text/plain": [
       "<Figure size 432x288 with 1 Axes>"
      ]
     },
     "metadata": {
      "needs_background": "light"
     },
     "output_type": "display_data"
    }
   ],
   "source": [
    "sns.violinplot(df.English,df.price,whis=3)"
   ]
  },
  {
   "cell_type": "markdown",
   "id": "c8260795",
   "metadata": {},
   "source": [
    "\n",
    "# Chi square test: \n",
    "\n",
    "## Checking the dependence between variables.\n",
    "## helps us to check whether there is a relationship between the variables.\n",
    "## our Null hypothesis: no dependence between the variables.\n"
   ]
  },
  {
   "cell_type": "code",
   "execution_count": 19,
   "id": "003b02c7",
   "metadata": {},
   "outputs": [
    {
     "data": {
      "text/plain": [
       "(18.442030615267385,\n",
       " 0.005217463274502861,\n",
       " 6,\n",
       " array([[ 310.63978093,   24.88623351,    8.58750311,    7.88648245],\n",
       "        [ 631.86955439,   50.62086134,   17.46776201,   16.04182226],\n",
       "        [2602.49066468,  208.49290515,   71.94473488,   66.07169529]]))"
      ]
     },
     "execution_count": 19,
     "metadata": {},
     "output_type": "execute_result"
    }
   ],
   "source": [
    "chi2_contingency(ct1)"
   ]
  },
  {
   "cell_type": "markdown",
   "id": "28b03f50",
   "metadata": {},
   "source": [
    "## we can see that the chi value is very low- therefore our null hypothesis is wrong.\n",
    "## what makes us understand that the values are depend on each other. \n",
    "\n",
    "####  pValue = 0.005217463274502861\n",
    "#### pValue < = 0.05  \n",
    "\n",
    "## ct1 is object , that distinguishes between \"English\" and \"popular\" levels ."
   ]
  },
  {
   "cell_type": "markdown",
   "id": "c03aa388",
   "metadata": {},
   "source": [
    "# line graph\n",
    "## represents the variables: \"popular\" vs 'is_expensive','lessons','reviews','students_count'"
   ]
  },
  {
   "cell_type": "code",
   "execution_count": 20,
   "id": "a6d8ed2b",
   "metadata": {},
   "outputs": [
    {
     "data": {
      "text/plain": [
       "<AxesSubplot:xlabel='popular'>"
      ]
     },
     "execution_count": 20,
     "metadata": {},
     "output_type": "execute_result"
    },
    {
     "data": {
      "image/png": "[encoded data removed]",
      "text/plain": [
       "<Figure size 432x288 with 1 Axes>"
      ]
     },
     "metadata": {
      "needs_background": "light"
     },
     "output_type": "display_data"
    }
   ],
   "source": [
    "h=df.groupby(['popular']).mean()[['is_expensive','lessons','reviews','students_count']]\n",
    "h.plot()"
   ]
  },
  {
   "cell_type": "markdown",
   "id": "c199d497",
   "metadata": {},
   "source": [
    "## conclusion: the popular has affect on the lessons variable and doesnt have an affect on the other variables"
   ]
  },
  {
   "cell_type": "markdown",
   "id": "179d3c2d",
   "metadata": {},
   "source": [
    "## \"price\" and \"lessons\" ar numerical variables\n",
    "## \"has_diploma\" is are categorical variables"
   ]
  },
  {
   "cell_type": "markdown",
   "id": "4f4d3a38",
   "metadata": {},
   "source": [
    "# scatter plot\n",
    "## below we can see the \"lessons\" vs \"price\" showed on the axis - while those who have diploma are colored on red."
   ]
  },
  {
   "cell_type": "code",
   "execution_count": 21,
   "id": "ce2e2e4d",
   "metadata": {},
   "outputs": [
    {
     "data": {
      "image/png": "[encoded data removed]",
      "text/plain": [
       "<Figure size 432x288 with 1 Axes>"
      ]
     },
     "metadata": {
      "needs_background": "light"
     },
     "output_type": "display_data"
    }
   ],
   "source": [
    "fig=plt.figure()\n",
    "ax=plt.axes()\n",
    "plt.scatter(df.price,df.lessons)\n",
    "plt.xlabel(\"price\")\n",
    "plt.ylabel(\"lessons\")\n",
    "ax.scatter(df.price[df.has_diploma==1],df.lessons[df.has_diploma==1], c=\"red\")\n",
    "plt.show()"
   ]
  },
  {
   "cell_type": "markdown",
   "id": "22adcdc8",
   "metadata": {},
   "source": [
    "# Scatter plot\n",
    "## In the following graph we can see our data presented in a multidimensional form. "
   ]
  },
  {
   "cell_type": "code",
   "execution_count": 22,
   "id": "02dce4f6",
   "metadata": {},
   "outputs": [
    {
     "data": {
      "text/plain": [
       "<mpl_toolkits.mplot3d.art3d.Path3DCollection at 0x29e0201caf0>"
      ]
     },
     "execution_count": 22,
     "metadata": {},
     "output_type": "execute_result"
    },
    {
     "data": {
      "image/png": "[encoded data removed]",
      "text/plain": [
       "<Figure size 432x288 with 1 Axes>"
      ]
     },
     "metadata": {
      "needs_background": "light"
     },
     "output_type": "display_data"
    }
   ],
   "source": [
    "import mpl_toolkits.mplot3d\n",
    "from mpl_toolkits.mplot3d import Axes3D\n",
    "ax=plt.axes(projection=\"3d\")\n",
    "\n",
    "xdata=df.students_count\n",
    "ydata=df.lessons\n",
    "zdata=df.price\n",
    "\n",
    "plt.xlabel(\"students_count\")\n",
    "plt.ylabel(\"lessons\")\n",
    "ax.scatter3D(xdata,ydata,zdata,c=zdata,depthshade=False)\n",
    "\n"
   ]
  },
  {
   "cell_type": "code",
   "execution_count": 23,
   "id": "4fa536b5",
   "metadata": {},
   "outputs": [
    {
     "data": {
      "text/plain": [
       "<seaborn.axisgrid.PairGrid at 0x29e01d0e850>"
      ]
     },
     "execution_count": 23,
     "metadata": {},
     "output_type": "execute_result"
    },
    {
     "data": {
      "image/png": "[encoded data removed]",
      "text/plain": [
       "<Figure size 360x360 with 6 Axes>"
      ]
     },
     "metadata": {
      "needs_background": "light"
     },
     "output_type": "display_data"
    }
   ],
   "source": [
    "sns.pairplot(df[['price', 'lessons']])"
   ]
  },
  {
   "cell_type": "markdown",
   "id": "bfdc3894",
   "metadata": {},
   "source": [
    "## the next function were taken from:  \n",
    "\n",
    "https://matplotlib.org/stable/gallery/statistics/confidence_ellipse.html#sphx-glr-gallery-statistics-confidence-ellipse-py\n",
    "\n",
    "### we used it in order to see the correlation bestween the variables \"lessons\" and \"price\" "
   ]
  },
  {
   "cell_type": "markdown",
   "id": "f83dd81f",
   "metadata": {},
   "source": [
    "### This example shows how to plot a confidence ellipse of a two-dimensional dataset, using its pearson correlation coefficient.\n",
    "### about the \"price\" and \"lessons\" variable."
   ]
  },
  {
   "cell_type": "code",
   "execution_count": 24,
   "id": "31baa23e",
   "metadata": {},
   "outputs": [],
   "source": [
    "def confidence_ellipse(x, y, ax, n_std=3.0, facecolor='none', **kwargs):\n",
    "    \"\"\"\n",
    "    Create a plot of the covariance confidence ellipse of *x* and *y*.\n",
    "\n",
    "    Parameters\n",
    "    ----------\n",
    "    x, y : array-like, shape (n, )\n",
    "        Input data.\n",
    "\n",
    "    ax : matplotlib.axes.Axes\n",
    "        The axes object to draw the ellipse into.\n",
    "\n",
    "    n_std : float\n",
    "        The number of standard deviations to determine the ellipse's radiuses.\n",
    "\n",
    "    **kwargs\n",
    "        Forwarded to `~matplotlib.patches.Ellipse`\n",
    "\n",
    "    Returns\n",
    "    -------\n",
    "    matplotlib.patches.Ellipse\n",
    "    \"\"\"\n",
    "    if x.size != y.size:\n",
    "        raise ValueError(\"x and y must be the same size\")\n",
    "\n",
    "    cov = np.cov(x, y)\n",
    "    pearson = cov[0, 1]/np.sqrt(cov[0, 0] * cov[1, 1])\n",
    "    # Using a special case to obtain the eigenvalues of this\n",
    "    # two-dimensionl dataset.\n",
    "    ell_radius_x = np.sqrt(1 + pearson)\n",
    "    ell_radius_y = np.sqrt(1 - pearson)\n",
    "    ellipse = Ellipse((0, 0), width=ell_radius_x * 2, height=ell_radius_y * 2,\n",
    "                      facecolor=facecolor, **kwargs)\n",
    "\n",
    "    # Calculating the stdandard deviation of x from\n",
    "    # the squareroot of the variance and multiplying\n",
    "    # with the given number of standard deviations.\n",
    "    scale_x = np.sqrt(cov[0, 0]) * n_std\n",
    "    mean_x = np.mean(x)\n",
    "\n",
    "    # calculating the stdandard deviation of y ...\n",
    "    scale_y = np.sqrt(cov[1, 1]) * n_std\n",
    "    mean_y = np.mean(y)\n",
    "\n",
    "    transf = transforms.Affine2D() \\\n",
    "        .rotate_deg(45) \\\n",
    "        .scale(scale_x, scale_y) \\\n",
    "        .translate(mean_x, mean_y)\n",
    "\n",
    "    ellipse.set_transform(transf + ax.transData)\n",
    "    return ax.add_patch(ellipse)"
   ]
  },
  {
   "cell_type": "code",
   "execution_count": 25,
   "id": "9e32281e",
   "metadata": {},
   "outputs": [
    {
     "data": {
      "image/png": "[encoded data removed]",
      "text/plain": [
       "<Figure size 648x216 with 3 Axes>"
      ]
     },
     "metadata": {
      "needs_background": "light"
     },
     "output_type": "display_data"
    }
   ],
   "source": [
    "np.random.seed(0)\n",
    "\n",
    "PARAMETERS = {\n",
    "    'Positive correlation': [[0.85, 0.35],\n",
    "                             [0.15, -0.65]],\n",
    "    'Negative correlation': [[0.9, -0.4],\n",
    "                             [0.1, -0.6]],\n",
    "    'Weak correlation': [[1, 0],\n",
    "                         [0, 1]],\n",
    "}\n",
    "\n",
    "mu = 2, 4\n",
    "scale = 3, 5\n",
    "\n",
    "fig, axs = plt.subplots(1, 3, figsize=(9, 3))\n",
    "for ax, (title, dependency) in zip(axs, PARAMETERS.items()):\n",
    "    x=df.price  #prices's column\n",
    "    y=df.lessons #lesson's column\n",
    "    ax.scatter(x, y, s=0.5)\n",
    "\n",
    "    ax.axvline(c='grey', lw=1)\n",
    "    ax.axhline(c='grey', lw=1)\n",
    "\n",
    "    confidence_ellipse(x, y, ax, edgecolor='red')\n",
    "\n",
    "    ax.scatter(mu[0], mu[1], c='red', s=3)\n",
    "    ax.set_title(title)\n",
    "\n",
    "plt.show()"
   ]
  },
  {
   "cell_type": "markdown",
   "id": "eca3fd69",
   "metadata": {},
   "source": [
    "### The shape of the ellipse tells us the measure of the corellation - \n",
    "### If the slope tends to the right- it shows a strong correlation- and that is what we got."
   ]
  },
  {
   "cell_type": "markdown",
   "id": "8aa5cda3",
   "metadata": {},
   "source": [
    "## as can be seen on the graph below - most of the teachers take 50 ils for our."
   ]
  },
  {
   "cell_type": "code",
   "execution_count": 26,
   "id": "2424997e",
   "metadata": {},
   "outputs": [
    {
     "data": {
      "text/plain": [
       "<AxesSubplot:xlabel='price', ylabel='Density'>"
      ]
     },
     "execution_count": 26,
     "metadata": {},
     "output_type": "execute_result"
    },
    {
     "data": {
      "image/png": "[encoded data removed]",
      "text/plain": [
       "<Figure size 432x288 with 1 Axes>"
      ]
     },
     "metadata": {
      "needs_background": "light"
     },
     "output_type": "display_data"
    }
   ],
   "source": [
    "sns.kdeplot(df.price, shade=True)"
   ]
  },
  {
   "cell_type": "code",
   "execution_count": 27,
   "id": "dbe84e88",
   "metadata": {},
   "outputs": [
    {
     "data": {
      "image/png": "[encoded data removed]",
      "text/plain": [
       "<Figure size 432x288 with 1 Axes>"
      ]
     },
     "metadata": {
      "needs_background": "light"
     },
     "output_type": "display_data"
    }
   ],
   "source": [
    "ax = sns.kdeplot(df.students_count, shade=True)\n"
   ]
  },
  {
   "cell_type": "markdown",
   "id": "8b28d7ea",
   "metadata": {},
   "source": [
    "## most of the teachers on Preply web has about 15-20 students per teacher."
   ]
  }
 ],
 "metadata": {
  "kernelspec": {
   "display_name": "Python 3",
   "language": "python",
   "name": "python3"
  },
  "language_info": {
   "codemirror_mode": {
    "name": "ipython",
    "version": 3
   },
   "file_extension": ".py",
   "mimetype": "text/x-python",
   "name": "python",
   "nbconvert_exporter": "python",
   "pygments_lexer": "ipython3",
   "version": "3.8.8"
  }
 },
 "nbformat": 4,
 "nbformat_minor": 5
}
